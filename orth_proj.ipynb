{
 "cells": [
  {
   "cell_type": "markdown",
   "metadata": {},
   "source": [
    "Notebook created: 2018-05-23 03:37:56  \n",
    "Generated from: _build_jl/jl/orth_proj.rst  "
   ]
  },
  {
   "cell_type": "code",
   "execution_count": null,
   "metadata": {},
   "outputs": [],
   "source": [
    "\"\"\"\n",
    "Implements Gram-Schmidt orthogonalization.\n",
    "\n",
    "Parameters\n",
    "----------\n",
    "X : an n x k array with linearly independent columns\n",
    "\n",
    "Returns\n",
    "-------\n",
    "U : an n x k array with orthonormal columns\n",
    "\n",
    "\"\"\"\n",
    "function gram_schmidt(X)\n",
    "\n",
    "    n, k = size(X)\n",
    "    U = Array{Float64}(n, k)\n",
    "    I = eye(n)\n",
    "\n",
    "    # The first col of U is just the normalized first col of X\n",
    "    v1 = X[:,1]\n",
    "    U[:,1] = v1 / norm(v1)\n",
    "\n",
    "    for i in 2:k\n",
    "        # Set up\n",
    "        b = X[:,i]        # The vector we're going to project\n",
    "        Z = X[:, 1:i-1]   # first i-1 columns of X\n",
    "\n",
    "        # Project onto the orthogonal complement of the col span of Z\n",
    "        M = I - Z * inv(Z' * Z) * Z'\n",
    "        u = M * b\n",
    "\n",
    "        # Normalize\n",
    "        U[:,i] = u / norm(u)\n",
    "    end\n",
    "\n",
    "    return U\n",
    "end"
   ]
  },
  {
   "cell_type": "markdown",
   "metadata": {},
   "source": [
    "```none\n",
    "gram_schmidt\n",
    "```\n"
   ]
  },
  {
   "cell_type": "code",
   "execution_count": null,
   "metadata": {},
   "outputs": [],
   "source": [
    "y = [1 3 -3]'\n",
    "X = [1 0; 0 -6; 2 2];"
   ]
  },
  {
   "cell_type": "code",
   "execution_count": null,
   "metadata": {},
   "outputs": [],
   "source": [
    "Py1 = X * inv(X' * X) * X' * y"
   ]
  },
  {
   "cell_type": "markdown",
   "metadata": {},
   "source": [
    "```none\n",
    "3×1 Array{Float64,2}:\n",
    " -0.565217\n",
    "  3.26087\n",
    " -2.21739\n",
    "```\n"
   ]
  },
  {
   "cell_type": "code",
   "execution_count": null,
   "metadata": {},
   "outputs": [],
   "source": [
    "U = gram_schmidt(X)"
   ]
  },
  {
   "cell_type": "markdown",
   "metadata": {},
   "source": [
    "```none\n",
    "3×2 Array{Float64,2}:\n",
    " 0.447214  -0.131876\n",
    " 0.0       -0.989071\n",
    " 0.894427   0.065938\n",
    "```\n"
   ]
  },
  {
   "cell_type": "code",
   "execution_count": null,
   "metadata": {},
   "outputs": [],
   "source": [
    "Py2 = U * U' * y"
   ]
  },
  {
   "cell_type": "markdown",
   "metadata": {},
   "source": [
    "```none\n",
    "3×1 Array{Float64,2}:\n",
    " -0.565217\n",
    "  3.26087\n",
    " -2.21739\n",
    "```\n"
   ]
  },
  {
   "cell_type": "code",
   "execution_count": null,
   "metadata": {},
   "outputs": [],
   "source": [
    "Q, R = qr(X)"
   ]
  },
  {
   "cell_type": "markdown",
   "metadata": {},
   "source": [
    "```none\n",
    "(\n",
    "[-0.447214 -0.131876; 0.0 -0.989071; -0.894427 0.065938],\n",
    "\n",
    "[-2.23607 -1.78885; 0.0 6.0663])\n",
    "```\n"
   ]
  },
  {
   "cell_type": "code",
   "execution_count": null,
   "metadata": {},
   "outputs": [],
   "source": [
    "Py3 = Q * Q' * y"
   ]
  },
  {
   "cell_type": "markdown",
   "metadata": {},
   "source": [
    "```none\n",
    "3×1 Array{Float64,2}:\n",
    " -0.565217\n",
    "  3.26087\n",
    " -2.21739\n",
    "```\n"
   ]
  }
 ],
 "metadata": {
  "kernelspec": {
   "display_name": "Julia 0.6.2",
   "language": "julia",
   "name": "julia-0.6"
  },
  "language_info": {
   "file_extension": ".jl",
   "mimetype": "application/julia",
   "name": "julia",
   "version": "0.6.2"
  }
 },
 "nbformat": 4,
 "nbformat_minor": 2
}
