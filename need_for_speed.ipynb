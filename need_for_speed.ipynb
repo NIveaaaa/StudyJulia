{
 "cells": [
  {
   "cell_type": "markdown",
   "metadata": {},
   "source": [
    "Notebook created: 2018-05-23 03:37:56  \n",
    "Generated from: _build_jl/jl/need_for_speed.rst  "
   ]
  },
  {
   "cell_type": "markdown",
   "metadata": {},
   "source": [
    "```asm\n",
    "    pushq   %rbp\n",
    "    movq    %rsp, %rbp\n",
    "    addq    %rdi, %rdi\n",
    "    leaq    (%rdi,%rsi,8), %rax\n",
    "    popq    %rbp\n",
    "    retq\n",
    "    nopl    (%rax)\n",
    "```\n"
   ]
  },
  {
   "cell_type": "code",
   "execution_count": 1,
   "metadata": {},
   "outputs": [
    {
     "data": {
      "text/plain": [
       "f (generic function with 1 method)"
      ]
     },
     "execution_count": 1,
     "metadata": {},
     "output_type": "execute_result"
    }
   ],
   "source": [
    "function f(a, b)\n",
    "    y = 2a + 8b\n",
    "    return y\n",
    "end"
   ]
  },
  {
   "cell_type": "markdown",
   "metadata": {},
   "source": [
    "```python\n",
    "def f(a, b):\n",
    "    y = 2 * a + 8 * b\n",
    "    return y\n",
    "```\n"
   ]
  },
  {
   "cell_type": "markdown",
   "metadata": {},
   "source": [
    "```c\n",
    "int f(int a, int b) {\n",
    "    int y = 2 * a + 8 * b;\n",
    "    return y;\n",
    "}\n",
    "```\n"
   ]
  },
  {
   "cell_type": "code",
   "execution_count": 2,
   "metadata": {},
   "outputs": [
    {
     "data": {
      "text/plain": [
       "f (generic function with 1 method)"
      ]
     },
     "execution_count": 2,
     "metadata": {},
     "output_type": "execute_result"
    }
   ],
   "source": [
    "function f(a, b)\n",
    "    y = (a + 8b)^2\n",
    "    return 7y\n",
    "end"
   ]
  },
  {
   "cell_type": "code",
   "execution_count": null,
   "metadata": {},
   "outputs": [],
   "source": [
    "@code_native f(1, 2)"
   ]
  },
  {
   "cell_type": "markdown",
   "metadata": {},
   "source": [
    "```none\n",
    "pushq   %rbp\n",
    "movq    %rsp, %rbp\n",
    "leaq    (%rdi,%rsi,8), %rdi\n",
    "movabsq $power_by_squaring, %rax\n",
    "movl    $2, %esi\n",
    "callq   %rax\n",
    "imulq   $7, %rax, %rax\n",
    "popq    %rbp\n",
    "retq\n",
    "nop\n",
    "```\n"
   ]
  },
  {
   "cell_type": "code",
   "execution_count": null,
   "metadata": {},
   "outputs": [],
   "source": [
    "@code_native f(1.0, 2.0)"
   ]
  },
  {
   "cell_type": "markdown",
   "metadata": {},
   "source": [
    "```none\n",
    "pushq   %rbp\n",
    "movq    %rsp, %rbp\n",
    "movabsq $139613711993752, %rax  # imm = 0x7EFA59B58B98\n",
    "mulsd   (%rax), %xmm1\n",
    "addsd   %xmm0, %xmm1\n",
    "mulsd   %xmm1, %xmm1\n",
    "movabsq $139613711993760, %rax  # imm = 0x7EFA59B58BA0\n",
    "mulsd   (%rax), %xmm1\n",
    "movapd  %xmm1, %xmm0\n",
    "popq    %rbp\n",
    "retq\n",
    "nop\n",
    "```\n"
   ]
  },
  {
   "cell_type": "markdown",
   "metadata": {},
   "source": [
    "## global variable "
   ]
  },
  {
   "cell_type": "code",
   "execution_count": 3,
   "metadata": {},
   "outputs": [
    {
     "data": {
      "text/plain": [
       "g (generic function with 1 method)"
      ]
     },
     "execution_count": 3,
     "metadata": {},
     "output_type": "execute_result"
    }
   ],
   "source": [
    "b = 1.0\n",
    "function g(a)\n",
    "    for i in 1:1_000_000\n",
    "        tmp = a + b\n",
    "    end\n",
    "end"
   ]
  },
  {
   "cell_type": "code",
   "execution_count": null,
   "metadata": {},
   "outputs": [],
   "source": [
    "@time g(1.0)"
   ]
  },
  {
   "cell_type": "markdown",
   "metadata": {},
   "source": [
    "```none\n",
    "0.023039 seconds (2.00 M allocations: 30.518 MB, 12.90% gc time)\n",
    "```\n"
   ]
  },
  {
   "cell_type": "code",
   "execution_count": null,
   "metadata": {},
   "outputs": [],
   "source": [
    "@code_native g(1.0)"
   ]
  },
  {
   "cell_type": "markdown",
   "metadata": {},
   "source": [
    "```none\n",
    "pushq   %rbp\n",
    "movq    %rsp, %rbp\n",
    "pushq   %r15\n",
    "pushq   %r14\n",
    "pushq   %r13\n",
    "pushq   %r12\n",
    "pushq   %rbx\n",
    "subq    $56, %rsp\n",
    "movsd   %xmm0, -88(%rbp)\n",
    "movq    %fs:0, %r15\n",
    "addq    $-2672, %r15            # imm = 0xFFFFFFFFFFFFF590\n",
    "xorpd   %xmm0, %xmm0\n",
    "movupd  %xmm0, -64(%rbp)\n",
    "movq    $0, -48(%rbp)\n",
    "movq    $6, -80(%rbp)\n",
    "movq    (%r15), %rax\n",
    "movq    %rax, -72(%rbp)\n",
    "leaq    -80(%rbp), %rax\n",
    "movq    %rax, (%r15)\n",
    "movabsq $140242067578672, %r12  # imm = 0x7F8CA69EDF30\n",
    "movl    $1000000, %ebx          # imm = 0xF4240\n",
    "leaq    5596992(%r12), %r13\n",
    "movabsq $jl_apply_generic, %r14\n",
    "nop\n",
    "movq    75966904(%r12), %rax\n",
    "movq    %rax, -48(%rbp)\n",
    "movq    %r13, -64(%rbp)\n",
    "movl    $1432, %esi             # imm = 0x598\n",
    "movl    $16, %edx\n",
    "movq    %r15, %rdi\n",
    "movabsq $jl_gc_pool_alloc, %rax\n",
    "callq   %rax\n",
    "movq    %r12, -8(%rax)\n",
    "movsd   -88(%rbp), %xmm0        # xmm0 = mem[0],zero\n",
    "movsd   %xmm0, (%rax)\n",
    "movq    %rax, -56(%rbp)\n",
    "movl    $3, %esi\n",
    "leaq    -64(%rbp), %rdi\n",
    "callq   %r14\n",
    "decq    %rbx\n",
    "jne     L112\n",
    "movq    -72(%rbp), %rax\n",
    "movq    %rax, (%r15)\n",
    "addq    $56, %rsp\n",
    "popq    %rbx\n",
    "popq    %r12\n",
    "popq    %r13\n",
    "popq    %r14\n",
    "popq    %r15\n",
    "popq    %rbp\n",
    "retq\n",
    "nopw    %cs:(%rax,%rax)\n",
    "```\n"
   ]
  },
  {
   "cell_type": "code",
   "execution_count": 4,
   "metadata": {},
   "outputs": [
    {
     "data": {
      "text/plain": [
       "g (generic function with 2 methods)"
      ]
     },
     "execution_count": 4,
     "metadata": {},
     "output_type": "execute_result"
    }
   ],
   "source": [
    "function g(a, b)\n",
    "    for i in 1:1_000_000\n",
    "        tmp = a + b\n",
    "    end\n",
    "end"
   ]
  },
  {
   "cell_type": "code",
   "execution_count": null,
   "metadata": {},
   "outputs": [],
   "source": [
    "@time g(1.0, 1.0)"
   ]
  },
  {
   "cell_type": "markdown",
   "metadata": {},
   "source": [
    "```none\n",
    "0.002876 seconds (1.31 k allocations: 61.374 KB)\n",
    "```\n"
   ]
  },
  {
   "cell_type": "code",
   "execution_count": 5,
   "metadata": {},
   "outputs": [
    {
     "name": "stdout",
     "output_type": "stream",
     "text": [
      "  0.004688 seconds (1.09 k allocations: 58.673 KiB)\n"
     ]
    }
   ],
   "source": [
    "@time g(1.0, 1.0)"
   ]
  },
  {
   "cell_type": "markdown",
   "metadata": {},
   "source": [
    "```none\n",
    "0.000001 seconds (4 allocations: 160 bytes)\n",
    "```\n"
   ]
  },
  {
   "cell_type": "code",
   "execution_count": null,
   "metadata": {},
   "outputs": [],
   "source": [
    "@code_native g(1.0, 1.0)"
   ]
  },
  {
   "cell_type": "markdown",
   "metadata": {},
   "source": [
    "```none\n",
    "pushq   %rbp\n",
    "movq    %rsp, %rbp\n",
    "popq    %rbp\n",
    "retq\n",
    "nopw    %cs:(%rax,%rax)\n",
    "```\n"
   ]
  },
  {
   "cell_type": "markdown",
   "metadata": {},
   "source": [
    "another way of maintaining global variable"
   ]
  },
  {
   "cell_type": "code",
   "execution_count": 6,
   "metadata": {},
   "outputs": [
    {
     "data": {
      "text/plain": [
       "g (generic function with 2 methods)"
      ]
     },
     "execution_count": 6,
     "metadata": {},
     "output_type": "execute_result"
    }
   ],
   "source": [
    "const b_const = 1.0\n",
    "function g(a)\n",
    "    for i in 1:1_000_000\n",
    "        tmp = a + b_const\n",
    "    end\n",
    "end"
   ]
  },
  {
   "cell_type": "code",
   "execution_count": 7,
   "metadata": {},
   "outputs": [
    {
     "name": "stdout",
     "output_type": "stream",
     "text": [
      "\t.text\n",
      "Filename: In[6]\n",
      "\tpushq\t%rbp\n",
      "\tmovq\t%rsp, %rbp\n",
      "Source line: 4\n",
      "\tpopq\t%rbp\n",
      "\tretq\n",
      "\tnopw\t%cs:(%rax,%rax)\n"
     ]
    }
   ],
   "source": [
    "@code_native g(1.0)"
   ]
  },
  {
   "cell_type": "code",
   "execution_count": 8,
   "metadata": {},
   "outputs": [
    {
     "name": "stdout",
     "output_type": "stream",
     "text": [
      "  0.000028 seconds (5 allocations: 240 bytes)\n"
     ]
    }
   ],
   "source": [
    "@time g(1.0)"
   ]
  },
  {
   "cell_type": "markdown",
   "metadata": {},
   "source": [
    "untyped case"
   ]
  },
  {
   "cell_type": "code",
   "execution_count": 9,
   "metadata": {},
   "outputs": [],
   "source": [
    "struct Foo_generic\n",
    "    a\n",
    "end"
   ]
  },
  {
   "cell_type": "markdown",
   "metadata": {},
   "source": [
    "ab abstract type on the field a"
   ]
  },
  {
   "cell_type": "code",
   "execution_count": 12,
   "metadata": {},
   "outputs": [],
   "source": [
    "struct Foo_abstract\n",
    "    a::Real\n",
    "end"
   ]
  },
  {
   "cell_type": "markdown",
   "metadata": {},
   "source": [
    ", here’s the parametrically typed case"
   ]
  },
  {
   "cell_type": "code",
   "execution_count": 21,
   "metadata": {},
   "outputs": [],
   "source": [
    "struct Foo_concrete{T <: Real}\n",
    "    a::T\n",
    "end"
   ]
  },
  {
   "cell_type": "code",
   "execution_count": 13,
   "metadata": {},
   "outputs": [
    {
     "data": {
      "text/plain": [
       "Foo_concrete{Float64}(1.0)"
      ]
     },
     "execution_count": 13,
     "metadata": {},
     "output_type": "execute_result"
    }
   ],
   "source": [
    "fg = Foo_generic(1.0)\n",
    "fa = Foo_abstract(1.0)\n",
    "fc = Foo_concrete(1.0)"
   ]
  },
  {
   "cell_type": "code",
   "execution_count": 16,
   "metadata": {},
   "outputs": [
    {
     "data": {
      "text/plain": [
       "Foo_abstract"
      ]
     },
     "execution_count": 16,
     "metadata": {},
     "output_type": "execute_result"
    }
   ],
   "source": [
    "typeof(fa)"
   ]
  },
  {
   "cell_type": "code",
   "execution_count": 15,
   "metadata": {},
   "outputs": [
    {
     "data": {
      "text/plain": [
       "Foo_generic"
      ]
     },
     "execution_count": 15,
     "metadata": {},
     "output_type": "execute_result"
    }
   ],
   "source": [
    "typeof(fg)"
   ]
  },
  {
   "cell_type": "code",
   "execution_count": 22,
   "metadata": {},
   "outputs": [
    {
     "data": {
      "text/plain": [
       "1.0"
      ]
     },
     "execution_count": 22,
     "metadata": {},
     "output_type": "execute_result"
    }
   ],
   "source": [
    "typeof(fc)\n",
    "fc.a"
   ]
  },
  {
   "cell_type": "markdown",
   "metadata": {},
   "source": [
    "```none\n",
    "Foo_concrete{Float64}\n",
    "```\n"
   ]
  },
  {
   "cell_type": "markdown",
   "metadata": {},
   "source": [
    "## timing"
   ]
  },
  {
   "cell_type": "code",
   "execution_count": 18,
   "metadata": {},
   "outputs": [
    {
     "data": {
      "text/plain": [
       "f (generic function with 2 methods)"
      ]
     },
     "execution_count": 18,
     "metadata": {},
     "output_type": "execute_result"
    }
   ],
   "source": [
    "function f(foo)\n",
    "    for i in 1:1_000_000\n",
    "        tmp = i + foo.a\n",
    "    end\n",
    "end"
   ]
  },
  {
   "cell_type": "code",
   "execution_count": 19,
   "metadata": {},
   "outputs": [
    {
     "name": "stdout",
     "output_type": "stream",
     "text": [
      "  0.049348 seconds (2.00 M allocations: 30.581 MiB, 22.06% gc time)\n"
     ]
    }
   ],
   "source": [
    "@time f(fg)"
   ]
  },
  {
   "cell_type": "markdown",
   "metadata": {},
   "source": [
    "```none\n",
    "0.029499 seconds (2.00 M allocations: 30.510 MB, 21.81% gc time)\n",
    "```\n"
   ]
  },
  {
   "cell_type": "code",
   "execution_count": null,
   "metadata": {},
   "outputs": [],
   "source": [
    "@code_native f(fg)"
   ]
  },
  {
   "cell_type": "markdown",
   "metadata": {},
   "source": [
    "```none\n",
    "pushq   %rbp\n",
    "movq    %rsp, %rbp\n",
    "pushq   %r15\n",
    "pushq   %r14\n",
    "pushq   %r13\n",
    "pushq   %r12\n",
    "pushq   %rbx\n",
    "subq    $56, %rsp\n",
    "movq    %rdi, %r15\n",
    "movq    %fs:0, %rcx\n",
    "addq    $-2672, %rcx            # imm = 0xFFFFFFFFFFFFF590\n",
    "movq    %rcx, -88(%rbp)\n",
    "xorps   %xmm0, %xmm0\n",
    "movups  %xmm0, -64(%rbp)\n",
    "movq    $0, -48(%rbp)\n",
    "movq    $6, -80(%rbp)\n",
    "movq    (%rcx), %rax\n",
    "movq    %rax, -72(%rbp)\n",
    "leaq    -80(%rbp), %rax\n",
    "movq    %rax, (%rcx)\n",
    "movl    $1, %ebx\n",
    "movabsq $140242073175664, %r13  # imm = 0x7F8CA6F44670\n",
    "movabsq $jl_box_int64, %r12\n",
    "movabsq $jl_apply_generic, %r14\n",
    "movq    (%r15), %rax\n",
    "movq    %rax, -48(%rbp)\n",
    "movq    %r13, -64(%rbp)\n",
    "movq    %rbx, %rdi\n",
    "leaq    1(%rbx), %rbx\n",
    "callq   %r12\n",
    "movq    %rax, -56(%rbp)\n",
    "movl    $3, %esi\n",
    "leaq    -64(%rbp), %rdi\n",
    "callq   %r14\n",
    "cmpq    $1000001, %rbx          # imm = 0xF4241\n",
    "jne     L112\n",
    "movq    -72(%rbp), %rax\n",
    "movq    -88(%rbp), %rcx\n",
    "movq    %rax, (%rcx)\n",
    "addq    $56, %rsp\n",
    "popq    %rbx\n",
    "popq    %r12\n",
    "popq    %r13\n",
    "popq    %r14\n",
    "popq    %r15\n",
    "popq    %rbp\n",
    "retq\n",
    "nopl    (%rax,%rax)\n",
    "```\n"
   ]
  },
  {
   "cell_type": "code",
   "execution_count": null,
   "metadata": {},
   "outputs": [],
   "source": [
    "@time f(fa)"
   ]
  },
  {
   "cell_type": "markdown",
   "metadata": {},
   "source": [
    "```none\n",
    "0.030892 seconds (2.00 M allocations: 30.585 MB, 7.18% gc time)\n",
    "```\n"
   ]
  },
  {
   "cell_type": "code",
   "execution_count": null,
   "metadata": {},
   "outputs": [],
   "source": [
    "@time f(fc)"
   ]
  },
  {
   "cell_type": "markdown",
   "metadata": {},
   "source": [
    "```none\n",
    "0.002850 seconds (1.45 k allocations: 67.642 KB)\n",
    "```\n"
   ]
  },
  {
   "cell_type": "markdown",
   "metadata": {},
   "source": [
    "```none\n",
    "0.000001 seconds (3 allocations: 144 bytes)\n",
    "```\n"
   ]
  },
  {
   "cell_type": "code",
   "execution_count": null,
   "metadata": {},
   "outputs": [],
   "source": [
    "@code_native f(fc)"
   ]
  },
  {
   "cell_type": "markdown",
   "metadata": {},
   "source": [
    "```none\n",
    "pushq   %rbp\n",
    "movq    %rsp, %rbp\n",
    "popq    %rbp\n",
    "retq\n",
    "nopw    %cs:(%rax,%rax)\n",
    "```\n"
   ]
  },
  {
   "cell_type": "markdown",
   "metadata": {},
   "source": [
    "## abstract container"
   ]
  },
  {
   "cell_type": "code",
   "execution_count": 27,
   "metadata": {},
   "outputs": [
    {
     "data": {
      "text/plain": [
       "sum_float_array (generic function with 1 method)"
      ]
     },
     "execution_count": 27,
     "metadata": {},
     "output_type": "execute_result"
    }
   ],
   "source": [
    "function sum_float_array(x::Array{Float64, 1})\n",
    "    sum = 0.0\n",
    "    for i in 1:length(x)\n",
    "        sum += x[i]\n",
    "    end\n",
    "    return sum\n",
    "end"
   ]
  },
  {
   "cell_type": "code",
   "execution_count": 28,
   "metadata": {},
   "outputs": [
    {
     "data": {
      "text/plain": [
       "0.0:1.000001000001e-6:1.0"
      ]
     },
     "execution_count": 28,
     "metadata": {},
     "output_type": "execute_result"
    }
   ],
   "source": [
    "x=linspace(0,1,1e6)"
   ]
  },
  {
   "cell_type": "code",
   "execution_count": 29,
   "metadata": {},
   "outputs": [
    {
     "data": {
      "text/plain": [
       "Array{Float64,1}"
      ]
     },
     "execution_count": 29,
     "metadata": {},
     "output_type": "execute_result"
    }
   ],
   "source": [
    "x = linspace(0, 1, 1e6)\n",
    "x = collect(x)\n",
    "typeof(x)"
   ]
  },
  {
   "cell_type": "markdown",
   "metadata": {},
   "source": [
    "```none\n",
    "Array{Float64,1}\n",
    "```\n"
   ]
  },
  {
   "cell_type": "code",
   "execution_count": 30,
   "metadata": {},
   "outputs": [
    {
     "name": "stdout",
     "output_type": "stream",
     "text": [
      "  0.006840 seconds (1.17 k allocations: 62.093 KiB)\n"
     ]
    },
    {
     "data": {
      "text/plain": [
       "499999.9999999796"
      ]
     },
     "execution_count": 30,
     "metadata": {},
     "output_type": "execute_result"
    }
   ],
   "source": [
    "@time sum_float_array(x)"
   ]
  },
  {
   "cell_type": "markdown",
   "metadata": {},
   "source": [
    "```none\n",
    "0.005524 seconds (1.74 k allocations: 82.486 KB)\n",
    "```\n"
   ]
  },
  {
   "cell_type": "markdown",
   "metadata": {},
   "source": [
    "## type inference"
   ]
  },
  {
   "cell_type": "code",
   "execution_count": 31,
   "metadata": {},
   "outputs": [
    {
     "data": {
      "text/plain": [
       "sum_array (generic function with 1 method)"
      ]
     },
     "execution_count": 31,
     "metadata": {},
     "output_type": "execute_result"
    }
   ],
   "source": [
    "function sum_array(x)\n",
    "    sum = 0.0\n",
    "    for i in 1:length(x)\n",
    "        sum += x[i]\n",
    "    end\n",
    "    return sum\n",
    "end"
   ]
  },
  {
   "cell_type": "code",
   "execution_count": 32,
   "metadata": {},
   "outputs": [
    {
     "name": "stdout",
     "output_type": "stream",
     "text": [
      "  0.007184 seconds (1.17 k allocations: 62.171 KiB)\n"
     ]
    },
    {
     "data": {
      "text/plain": [
       "499999.9999999796"
      ]
     },
     "execution_count": 32,
     "metadata": {},
     "output_type": "execute_result"
    }
   ],
   "source": [
    "@time sum_array(x)"
   ]
  },
  {
   "cell_type": "markdown",
   "metadata": {},
   "source": [
    "```none\n",
    "0.005556 seconds (1.61 k allocations: 75.002 KB)\n",
    "```\n"
   ]
  },
  {
   "cell_type": "markdown",
   "metadata": {},
   "source": [
    "## an abstract container"
   ]
  },
  {
   "cell_type": "code",
   "execution_count": 33,
   "metadata": {},
   "outputs": [],
   "source": [
    "x = Any[1/i for i in 1:1e6];"
   ]
  },
  {
   "cell_type": "code",
   "execution_count": 34,
   "metadata": {},
   "outputs": [
    {
     "data": {
      "text/plain": [
       "Any"
      ]
     },
     "execution_count": 34,
     "metadata": {},
     "output_type": "execute_result"
    }
   ],
   "source": [
    "eltype(x)"
   ]
  },
  {
   "cell_type": "markdown",
   "metadata": {},
   "source": [
    "```none\n",
    "Any\n",
    "```\n"
   ]
  },
  {
   "cell_type": "code",
   "execution_count": 35,
   "metadata": {},
   "outputs": [
    {
     "name": "stdout",
     "output_type": "stream",
     "text": [
      "  0.049881 seconds (1.00 M allocations: 15.319 MiB, 43.10% gc time)\n"
     ]
    },
    {
     "data": {
      "text/plain": [
       "14.392726722864989"
      ]
     },
     "execution_count": 35,
     "metadata": {},
     "output_type": "execute_result"
    }
   ],
   "source": [
    "@time sum_array(x)"
   ]
  },
  {
   "cell_type": "markdown",
   "metadata": {},
   "source": [
    "```none\n",
    "0.021680 seconds (1.00 M allocations: 15.332 MB)\n",
    "```\n"
   ]
  }
 ],
 "metadata": {
  "kernelspec": {
   "display_name": "Julia 0.6.2",
   "language": "julia",
   "name": "julia-0.6"
  },
  "language_info": {
   "file_extension": ".jl",
   "mimetype": "application/julia",
   "name": "julia",
   "version": "0.6.2"
  }
 },
 "nbformat": 4,
 "nbformat_minor": 2
}
